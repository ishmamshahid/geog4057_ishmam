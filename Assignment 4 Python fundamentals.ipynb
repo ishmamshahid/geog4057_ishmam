{
 "cells": [
  {
   "cell_type": "markdown",
   "metadata": {},
   "source": [
    "# Assignment 4 Python fundamentals"
   ]
  },
  {
   "cell_type": "markdown",
   "metadata": {},
   "source": [
    "## Requirements: (10 pnts)\n",
    "- Add this notebook to ArcGIS Pro\n",
    "- for each of following questions, add and fill a code box with your answer, and run it to get the output\n",
    "- Upload the updated ipynb file as your assignment submission to Moodle for grading\n",
    "- 10 pnts go to on-time submissions "
   ]
  },
  {
   "cell_type": "markdown",
   "metadata": {},
   "source": [
    "### Q1 County name list (15 pnts)\n",
    "- Find out the five parishes in Louisiana with the most population (by Google or some other sources)\n",
    "- Create a *list* named *counties* with the five county names (2 pnts)\n",
    "- print the length of the list (3 pnts)\n",
    "- Use a *for loop* to print the county names one by one (10 pnts)"
   ]
  },
  {
   "cell_type": "code",
   "execution_count": 3,
   "metadata": {},
   "outputs": [
    {
     "name": "stdout",
     "output_type": "stream",
     "text": [
      "5\n"
     ]
    }
   ],
   "source": [
    "counties = [\"East Baton Rouge\", \"Jefferson\", \"Orleans\", \"St. Tammany\", \"Lafayette\"]\n",
    "print(len(counties))"
   ]
  },
  {
   "cell_type": "code",
   "execution_count": 4,
   "metadata": {},
   "outputs": [
    {
     "name": "stdout",
     "output_type": "stream",
     "text": [
      "East Baton Rouge\n",
      "Jefferson\n",
      "Orleans\n",
      "St. Tammany\n",
      "Lafayette\n"
     ]
    }
   ],
   "source": [
    "for parish in counties:\n",
    "    print(parish)"
   ]
  },
  {
   "cell_type": "markdown",
   "metadata": {},
   "source": [
    "### Q2 County population dictionary (15 pnts)\n",
    "- Create a *dictionary* named *county_pop* with the five county names as keys and their population as values (2 pnts)\n",
    "- print the population of the county that has the largest population using the dict[key] operator (e.g. county_pop['countyname']) (3 pnts)\n",
    "- print the population of the county that has the least population (2 pnts)\n",
    "- Use a for loop to calculate the total population from the dictionary (hint, for county in county_pop: ... ) (10 pnts)"
   ]
  },
  {
   "cell_type": "code",
   "execution_count": 7,
   "metadata": {},
   "outputs": [],
   "source": [
    "county_pop = { \"East Baton Rouge\": 448467, \"Jefferson\": 421777, \"Orleans\": 364136, \n",
    "              \"St. Tammany\": 275583, \"Lafayette\": 249750}"
   ]
  },
  {
   "cell_type": "code",
   "execution_count": 8,
   "metadata": {},
   "outputs": [
    {
     "name": "stdout",
     "output_type": "stream",
     "text": [
      "East Baton Rouge\n"
     ]
    }
   ],
   "source": [
    "most_populous_county = max(county_pop, key=county_pop.get)\n",
    "print(most_populous_county)"
   ]
  },
  {
   "cell_type": "code",
   "execution_count": 9,
   "metadata": {},
   "outputs": [
    {
     "name": "stdout",
     "output_type": "stream",
     "text": [
      "Lafayette\n"
     ]
    }
   ],
   "source": [
    "least_populous_county = min(county_pop, key=county_pop.get)\n",
    "print(least_populous_county)"
   ]
  },
  {
   "cell_type": "code",
   "execution_count": 10,
   "metadata": {},
   "outputs": [
    {
     "name": "stdout",
     "output_type": "stream",
     "text": [
      "Total Population: 1759713\n"
     ]
    }
   ],
   "source": [
    "total_population = 0\n",
    "\n",
    "for population in county_pop.values():\n",
    "    total_population += population\n",
    "\n",
    "print(\"Total Population:\", total_population)"
   ]
  },
  {
   "cell_type": "markdown",
   "metadata": {},
   "source": [
    "### Q3 string formatting (10 pnts)\n",
    "- Use the county_pop dictionary to print the county names and populations as the following formatted string: (10 pnts)\n",
    "county1 has a population of ###\n",
    "county2 has a population of ###\n",
    "...\n",
    "- You can choose to use a for loop or not"
   ]
  },
  {
   "cell_type": "code",
   "execution_count": 11,
   "metadata": {},
   "outputs": [
    {
     "name": "stdout",
     "output_type": "stream",
     "text": [
      "East Baton Rouge has a population of 448467\n",
      "Jefferson has a population of 421777\n",
      "Orleans has a population of 364136\n",
      "St. Tammany has a population of 275583\n",
      "Lafayette has a population of 249750\n"
     ]
    }
   ],
   "source": [
    "for county, population in county_pop.items():\n",
    "    print(f\"{county} has a population of {population}\")"
   ]
  },
  {
   "cell_type": "markdown",
   "metadata": {},
   "source": [
    "### Q4 shape file names for each county (10 pnts)\n",
    "- Use the counties list as input\n",
    "- For each county, create the string for its shapefile name. For example, county1.shp, county2.shp (hint: use the + operator or the f-string feature) (10 pnts)\n",
    "- You can choose to use a for loop or not \n"
   ]
  },
  {
   "cell_type": "code",
   "execution_count": 12,
   "metadata": {},
   "outputs": [
    {
     "name": "stdout",
     "output_type": "stream",
     "text": [
      "['East Baton Rouge', 'Jefferson', 'Orleans', 'St. Tammany', 'Lafayette']\n"
     ]
    }
   ],
   "source": [
    "print(counties)"
   ]
  },
  {
   "cell_type": "code",
   "execution_count": 16,
   "metadata": {},
   "outputs": [
    {
     "name": "stdout",
     "output_type": "stream",
     "text": [
      "East_Baton_Rouge.shp\n",
      "Jefferson.shp\n",
      "Orleans.shp\n",
      "St._Tammany.shp\n",
      "Lafayette.shp\n"
     ]
    }
   ],
   "source": [
    "# Loop through the counties list and create shapefile names\n",
    "for parish in counties:\n",
    "    shapefile_name = f\"{parish.replace(' ', '_')}.shp\"\n",
    "    print(shapefile_name)"
   ]
  },
  {
   "cell_type": "markdown",
   "metadata": {},
   "source": [
    "### Q5 create a full path name for each county (10 pnts)\n",
    "- Define a variable called *data_path* and store a string as a path name. For example, \"C:/data\" (5 pnts)\n",
    "- Use the os.path.join() function to create a full path name for each county. For example, \"C:/data/county1.shp\" (5 pnts)\n",
    "- Required: you have to use a for...loop on this question"
   ]
  },
  {
   "cell_type": "code",
   "execution_count": 17,
   "metadata": {},
   "outputs": [
    {
     "name": "stdout",
     "output_type": "stream",
     "text": [
      "C:\\Users\\Ishmam Zuhayr\\Documents\\geog4057_Scripts\\Programming\\geog4057_ishmam\\East_Baton_Rouge.shp\n",
      "C:\\Users\\Ishmam Zuhayr\\Documents\\geog4057_Scripts\\Programming\\geog4057_ishmam\\Jefferson.shp\n",
      "C:\\Users\\Ishmam Zuhayr\\Documents\\geog4057_Scripts\\Programming\\geog4057_ishmam\\Orleans.shp\n",
      "C:\\Users\\Ishmam Zuhayr\\Documents\\geog4057_Scripts\\Programming\\geog4057_ishmam\\St._Tammany.shp\n",
      "C:\\Users\\Ishmam Zuhayr\\Documents\\geog4057_Scripts\\Programming\\geog4057_ishmam\\Lafayette.shp\n"
     ]
    }
   ],
   "source": [
    "import os\n",
    "\n",
    "# Define the base directory\n",
    "data_path = r\"C:\\Users\\Ishmam Zuhayr\\Documents\\geog4057_Scripts\\Programming\\geog4057_ishmam\"\n",
    "\n",
    "# Loop through counties and generate full shapefile paths\n",
    "for parish in counties:\n",
    "    shapefile_name = f\"{parish.replace(' ', '_')}.shp\" \n",
    "    full_path = os.path.join(data_path, shapefile_name)\n",
    "    print(full_path)\n"
   ]
  },
  {
   "cell_type": "markdown",
   "metadata": {},
   "source": [
    "### Q6 Define a function (30 pnts)\n",
    "- Define a function called countPopulation (5 pnts)\n",
    "- Define the function's docstring using the triple quotes with following content:(5 pnts)\n",
    "  <q>Compute the total populatoin of the counties in the dictionary \n",
    "   GEOG 4057 GIS Programming</q>\n",
    "\n",
    "- Complete the fucntion so it can return the value of total population (10 pnts)\n",
    "- print the function's docstring using the dunder doc attribute (5 pnts)\n",
    "- Call the function from the code block to print the total population (5 pnts)"
   ]
  },
  {
   "cell_type": "code",
   "execution_count": 18,
   "metadata": {},
   "outputs": [
    {
     "name": "stdout",
     "output_type": "stream",
     "text": [
      "\n",
      "    Compute the total population of the counties in the dictionary  \n",
      "    GEOG 4057 GIS Programming\n",
      "    \n",
      "Total Population: 1759713\n"
     ]
    }
   ],
   "source": [
    "def countPopulation(county_pop):\n",
    "    \"\"\"\n",
    "    Compute the total population of the counties in the dictionary  \n",
    "    GEOG 4057 GIS Programming\n",
    "    \"\"\"\n",
    "    total_population = sum(county_pop.values())\n",
    "    return total_population\n",
    "\n",
    "\n",
    "# Print the function's docstring\n",
    "print(countPopulation.__doc__)\n",
    "\n",
    "# Call the function and print the total population\n",
    "total_pop = countPopulation(county_pop)\n",
    "print(\"Total Population:\", total_pop)\n"
   ]
  }
 ],
 "metadata": {
  "kernelspec": {
   "display_name": "ArcPyClone",
   "language": "python",
   "name": "arcpy_clone"
  },
  "language_info": {
   "codemirror_mode": {
    "name": "ipython",
    "version": 3
   },
   "file_extension": ".py",
   "mimetype": "text/x-python",
   "name": "python",
   "nbconvert_exporter": "python",
   "pygments_lexer": "ipython3",
   "version": "3.11.10"
  },
  "orig_nbformat": 4
 },
 "nbformat": 4,
 "nbformat_minor": 2
}
