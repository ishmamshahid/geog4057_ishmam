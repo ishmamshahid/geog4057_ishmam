{
 "cells": [
  {
   "cell_type": "markdown",
   "id": "5a16ca0f",
   "metadata": {},
   "source": [
    "## Open the project and print some information (10 pnts)"
   ]
  },
  {
   "cell_type": "code",
   "execution_count": 1,
   "id": "7d8e26ce",
   "metadata": {},
   "outputs": [
    {
     "name": "stdout",
     "output_type": "stream",
     "text": [
      "C:\\Users\\Ishmam Zuhayr\\Documents\\geog4057_Scripts\\Programming\\geog4057_ishmam\\ex8\\Austin_Data.gdb\n"
     ]
    }
   ],
   "source": [
    "import arcpy\n",
    "import os\n",
    "\n",
    "aprx = arcpy.mp.ArcGISProject(\"Austin.aprx\")\n",
    "print(aprx.defaultGeodatabase)"
   ]
  },
  {
   "cell_type": "markdown",
   "id": "9a4acddf",
   "metadata": {},
   "source": [
    "## Save a copy of the project (10 pnts)"
   ]
  },
  {
   "cell_type": "code",
   "execution_count": null,
   "id": "f26ffd68",
   "metadata": {},
   "outputs": [],
   "source": [
    "aprx.saveACopy('Austin_Copy.aprx')"
   ]
  },
  {
   "cell_type": "markdown",
   "id": "e5a32602",
   "metadata": {},
   "source": [
    "## Examine the new project file (10 pnts)"
   ]
  },
  {
   "cell_type": "code",
   "execution_count": 2,
   "id": "3e7cdcdc",
   "metadata": {},
   "outputs": [
    {
     "name": "stdout",
     "output_type": "stream",
     "text": [
      "File size of the original project: 59.80 KB\n"
     ]
    }
   ],
   "source": [
    "# Get file size in bytes\n",
    "file_size_bytes_original = os.path.getsize(\"Austin.aprx\")\n",
    "\n",
    "# Convert to megabytes (1 MB = 1024 * 1024 bytes)\n",
    "file_size_kb_original = file_size_bytes_original / 1024\n",
    "\n",
    "print(f\"File size of the original project: {file_size_kb_original:.2f} KB\")"
   ]
  },
  {
   "cell_type": "code",
   "execution_count": 3,
   "id": "9e6be3c5",
   "metadata": {},
   "outputs": [
    {
     "name": "stdout",
     "output_type": "stream",
     "text": [
      "File size of the copied project: 47.36 KB\n"
     ]
    }
   ],
   "source": [
    "# Get file size in bytes\n",
    "file_size_bytes_copy = os.path.getsize(\"Austin_Copy.aprx\")\n",
    "\n",
    "# Convert to megabytes (1 MB = 1024 * 1024 bytes)\n",
    "file_size_kb_copy = file_size_bytes_copy / 1024\n",
    "\n",
    "print(f\"File size of the copied project: {file_size_kb_copy:.2f} KB\")"
   ]
  },
  {
   "cell_type": "markdown",
   "id": "81088cf3",
   "metadata": {},
   "source": [
    "The smaller size of Austin_Copy.aprx is likely because copying or saving the project removes editing history, temporary data, and defragments the internal structure, making it more compact. It contains the same features but without the accumulated overhead from previous work sessions."
   ]
  },
  {
   "cell_type": "markdown",
   "id": "d76ea670-ca77-4e5c-9521-9565e9bc9f51",
   "metadata": {},
   "source": [
    "## Work with maps"
   ]
  },
  {
   "cell_type": "code",
   "execution_count": 4,
   "id": "bb6d660e-6d67-458f-af65-3ae3d8e55312",
   "metadata": {},
   "outputs": [
    {
     "name": "stdout",
     "output_type": "stream",
     "text": [
      "Downtown\n",
      "Foot_US\n",
      "Region\n",
      "Foot_US\n"
     ]
    }
   ],
   "source": [
    "aprx = arcpy.mp.ArcGISProject('CURRENT')\n",
    "maps = aprx.listMaps()\n",
    "for m in maps:\n",
    "    print(m.name)\n",
    "    print(m.mapUnits)\n",
    "del aprx"
   ]
  },
  {
   "cell_type": "markdown",
   "id": "06d9232e-827b-4de8-8d77-28ccef0c5746",
   "metadata": {},
   "source": [
    "del aprx does not delete the project file, it just free up the aprx object in the python environment"
   ]
  },
  {
   "cell_type": "markdown",
   "id": "73bd909f-b4d8-4df0-8e64-b7aae0cf0ae7",
   "metadata": {},
   "source": [
    "## Change the name of a map (10 pnts)"
   ]
  },
  {
   "cell_type": "code",
   "execution_count": 5,
   "id": "752ca049-6df0-479d-a950-a373e5287f7f",
   "metadata": {},
   "outputs": [],
   "source": [
    "aprx = arcpy.mp.ArcGISProject('CURRENT')\n",
    "m = aprx.listMaps(\"Region\")[0]\n",
    "m.name = \"County\"\n",
    "del aprx"
   ]
  },
  {
   "cell_type": "markdown",
   "id": "852374ed-df42-4189-ac6f-f9d77b87d012",
   "metadata": {},
   "source": [
    "After running the above cell, the map named \"Region\" is renamed to \"County\""
   ]
  },
  {
   "cell_type": "markdown",
   "id": "2650d8d5-8c7f-4d35-aaaa-ab967d0ce443",
   "metadata": {},
   "source": [
    "## List the layers in a map (10 pnts)"
   ]
  },
  {
   "cell_type": "code",
   "execution_count": 6,
   "id": "a5643947-332d-4f54-a430-20876a39a793",
   "metadata": {},
   "outputs": [
    {
     "name": "stdout",
     "output_type": "stream",
     "text": [
      "Map: Downtown\n",
      "trees\n",
      "parks\n",
      "base\n",
      "Topographic\n",
      "Map: County\n",
      "facilities\n",
      "hospitals\n",
      "parks\n",
      "Topographic\n"
     ]
    }
   ],
   "source": [
    "aprx = arcpy.mp.ArcGISProject('CURRENT')\n",
    "maps = aprx.listMaps()\n",
    "for m in maps:\n",
    "    print(\"Map: \" + m.name)\n",
    "    lyrs = m.listLayers()\n",
    "    for lyr in lyrs:\n",
    "        print(lyr.name)\n",
    "del aprx"
   ]
  },
  {
   "cell_type": "markdown",
   "id": "7909b4fe-d316-4759-98a5-e149e6db3c21",
   "metadata": {},
   "source": [
    "## Print if a layer is a basemap or a feature layer"
   ]
  },
  {
   "cell_type": "code",
   "execution_count": 7,
   "id": "d52ec496-e7f9-4bdc-93f2-6727584696da",
   "metadata": {},
   "outputs": [
    {
     "name": "stdout",
     "output_type": "stream",
     "text": [
      "trees is a feature layer\n",
      "parks is a feature layer\n",
      "base is a feature layer\n",
      "Topographic is a basemap layer\n"
     ]
    }
   ],
   "source": [
    "aprx = arcpy.mp.ArcGISProject('CURRENT')\n",
    "m = aprx.listMaps(\"Downtown\")[0]\n",
    "lyrs = m.listLayers()\n",
    "for lyr in lyrs:\n",
    "    if lyr.isBasemapLayer:\n",
    "        print(lyr.name + \" is a basemap layer\")\n",
    "    if lyr.isFeatureLayer:\n",
    "        print(lyr.name + \" is a feature layer\")\n",
    "del aprx\n"
   ]
  },
  {
   "cell_type": "markdown",
   "id": "503bcb2f-8b69-4997-b190-b82911144578",
   "metadata": {},
   "source": [
    "## Change the basemap (5 pnts)"
   ]
  },
  {
   "cell_type": "code",
   "execution_count": 8,
   "id": "8b556c0b-e43a-4fd0-ad7f-2b13a5e9fd73",
   "metadata": {},
   "outputs": [],
   "source": [
    "aprx = arcpy.mp.ArcGISProject('CURRENT')\n",
    "m = aprx.listMaps(\"Downtown\")[0]\n",
    "m.addBasemap(\"Light Gray Canvas\")"
   ]
  },
  {
   "cell_type": "markdown",
   "id": "85de7742-d0ca-4210-a146-53379c017e60",
   "metadata": {},
   "source": [
    "After running the above code, the BaseMap is changed to Light Gray Canvas "
   ]
  },
  {
   "cell_type": "markdown",
   "id": "1efa9160-7bcd-448e-a9c2-0fbd7007856b",
   "metadata": {},
   "source": [
    "## Modify layer symbology (5 pnts)"
   ]
  },
  {
   "cell_type": "code",
   "execution_count": 11,
   "id": "69344cb2-f3a0-4ee4-9bbc-7103e08dc4ba",
   "metadata": {},
   "outputs": [],
   "source": [
    "aprx = arcpy.mp.ArcGISProject(\"CURRENT\")\n",
    "m = aprx.listMaps(\"Downtown\")[0]\n",
    "lyr = m.listLayers(\"parks\")[0]\n",
    "sym = lyr.symbology\n",
    "green = {\"RGB\": [100, 175, 0, 100]}\n",
    "if lyr.isFeatureLayer and hasattr(sym, \"renderer\"):\n",
    "    sym.renderer.symbol.color = green\n",
    "    lyr.symbology = sym"
   ]
  },
  {
   "cell_type": "markdown",
   "id": "22b193bc-74d2-443a-9327-18212bc4644d",
   "metadata": {},
   "source": [
    "Here, green is a dictionary that defines the color using RGB values, where the numbers indicate intensity and 100 represents opacity. To change the color to brown, I use the following code, and the color updates accordingly."
   ]
  },
  {
   "cell_type": "code",
   "execution_count": 12,
   "id": "ac7e768d-0136-420c-a61b-fc7ee38f52d7",
   "metadata": {},
   "outputs": [],
   "source": [
    "aprx = arcpy.mp.ArcGISProject(\"CURRENT\")\n",
    "m = aprx.listMaps(\"Downtown\")[0]\n",
    "lyr = m.listLayers(\"parks\")[0]\n",
    "sym = lyr.symbology\n",
    "brown = {\"RGB\": [165, 42, 42, 100]}\n",
    "if lyr.isFeatureLayer and hasattr(sym, \"renderer\"):\n",
    "    sym.renderer.symbol.color = brown\n",
    "    lyr.symbology = sym\n",
    "     "
   ]
  },
  {
   "cell_type": "markdown",
   "id": "3b076a10-2012-42b0-89e6-d2d154f1375b",
   "metadata": {},
   "source": [
    "## Create a layout and insert the map \"Downtown\" in the layout"
   ]
  },
  {
   "cell_type": "code",
   "execution_count": 13,
   "id": "08ab3de4-5a01-4f1c-b541-af6c5d7dff09",
   "metadata": {},
   "outputs": [],
   "source": [
    "m = aprx.listMaps(\"Downtown\")[0]\n",
    "\n",
    "lyt = aprx.createLayout( 11,8.5, 'INCH', 'New Layout with Rectangles')\n",
    "\n",
    "def MakeRec_LL(llx, lly, w, h):\n",
    "    xyRecList = [[llx, lly], [llx, lly+h], [llx+w,lly+h], [llx+w,lly], [llx,lly]]\n",
    "    array = arcpy.Array([arcpy.Point(*coords) for coords in xyRecList])\n",
    "    rec = arcpy.Polygon(array)\n",
    "    return rec\n",
    "\n",
    "mf = lyt.createMapFrame(MakeRec_LL(0.5,0.5,10,7.5), m, \"New Map Frame\")"
   ]
  },
  {
   "cell_type": "markdown",
   "id": "f8212ade-020b-42fd-a007-c500950d04ad",
   "metadata": {},
   "source": [
    "The layout size is 11 × 8.5 inches. The lower-left corner is positioned at (0.5, 0.5), and with a width and height of 10 × 7.5 inches, the map frame fills most of the page. Python makes it easier to reproduce consistent layouts across different projects with just a few lines of code and offers more customization options than the manual process."
   ]
  },
  {
   "cell_type": "markdown",
   "id": "7c9ac1c2-10c7-46c1-89e9-b6a106ce2920",
   "metadata": {},
   "source": [
    "## Add layout elements (5 pnts)"
   ]
  },
  {
   "cell_type": "code",
   "execution_count": 14,
   "id": "56a4a8d7-05e7-4949-bf67-5e1430d9b09f",
   "metadata": {},
   "outputs": [],
   "source": [
    "#Create a north arrow\n",
    "naStyle = aprx.listStyleItems('ArcGIS 2D', 'North_Arrow', 'Compass North 1')[0]\n",
    "na = lyt.createMapSurroundElement(arcpy.Point(9.5,7.5), 'North_Arrow', mf,\n",
    "                                      naStyle, \"Compass North Arrow\")\n",
    "na.elementWidth = 0.5  \n",
    "\n",
    "#Create a scale bar\n",
    "sbName = 'Double Alternating Scale Bar 1 Metric'\n",
    "sbStyle = aprx.listStyleItems('ArcGIS 2D', 'Scale_bar', sbName)[0]\n",
    "sbEnv = MakeRec_LL(5.5, 0.1, 4, 0.5)\n",
    "sb = lyt.createMapSurroundElement(sbEnv, 'Scale_bar', mf, sbStyle, 'New Scale Bar')"
   ]
  },
  {
   "cell_type": "code",
   "execution_count": 15,
   "id": "56a2d3d6-6520-4d63-8544-8a744c67bce7",
   "metadata": {},
   "outputs": [],
   "source": [
    "# Adding a legend\n",
    "legSi = aprx.listStyleItems('ArcGIS 2D', 'LEGEND', 'Legend 3' )[0]\n",
    "leg = lyt.createMapSurroundElement(arcpy.Point(1,7), 'LEGEND', mf, legSi, 'New Legend Element')\n",
    "leg.elementWidth = 3\n",
    "leg.elementHeight = 3\n",
    "leg.fittingStrategy = 'AdjustFontSize'\n",
    "leg.columnCount = 1\n",
    "leg.title = 'Downtown'"
   ]
  },
  {
   "cell_type": "markdown",
   "id": "de93a3ea-7067-4cce-a62b-b1e0f5a47d81",
   "metadata": {},
   "source": [
    "## Export the layout to a pdf (10 pnts)"
   ]
  },
  {
   "cell_type": "code",
   "execution_count": 16,
   "id": "1168ef49-a5c1-47e9-8374-45b80b77cd0b",
   "metadata": {},
   "outputs": [
    {
     "data": {
      "text/plain": [
       "'downtown.pdf'"
      ]
     },
     "execution_count": 16,
     "metadata": {},
     "output_type": "execute_result"
    }
   ],
   "source": [
    "lyt.exportToPDF('downtown.pdf')"
   ]
  },
  {
   "cell_type": "code",
   "execution_count": null,
   "id": "50bbc03f",
   "metadata": {},
   "outputs": [],
   "source": []
  },
  {
   "cell_type": "code",
   "execution_count": null,
   "id": "5adbb319",
   "metadata": {},
   "outputs": [],
   "source": []
  }
 ],
 "metadata": {
  "kernelspec": {
   "display_name": "ArcGISPro",
   "language": "python",
   "name": "python3"
  },
  "language_info": {
   "file_extension": ".py",
   "mimetype": "text/x-python",
   "name": "python",
   "version": "3.11.10"
  }
 },
 "nbformat": 4,
 "nbformat_minor": 5
}
