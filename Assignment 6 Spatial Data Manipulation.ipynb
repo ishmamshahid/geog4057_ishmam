{
 "cells": [
  {
   "cell_type": "markdown",
   "metadata": {},
   "source": [
    "# Introduction\n",
    " In this assignment, you will do exercises on arcpy.Exists(), arcpy.Walk(), arcpy.da.Describe(), python list comprehension, arcpy.da.SearchCursor, and arcpy.da.InsertCursor(). In each section, a code block is provided but not ready to run. You need to add this notebook to ArcGIS Pro, modify each block to make it runable, keep the output message , and write an explanation of the code block. \n",
    "\n",
    " Data preparation: \n",
    " Download the points.csv from the data folder. "
   ]
  },
  {
   "cell_type": "markdown",
   "metadata": {},
   "source": [
    "## First, let's use ArcToolbox tools to convert the csv to a feature class (10 pnts)\n",
    "\n",
    "- In ArcGIS Pro, search for \"XYTable to Point\"\n",
    "- In the dialog, put the \"point.csv\" from this folder as the input table\n",
    "- Name the output something like \"point_fromxy\"\n",
    "- Before, you run the model, in the Run button, click the small triangle and select \"Copy Python Command\"\n",
    "- Paste your python code below in the code block\n",
    "- Run the code block to make sure it works\n",
    "- Compare the python code and the ArcGIS Pro Geoprocessing pane dialog interface \n"
   ]
  },
  {
   "cell_type": "code",
   "execution_count": 1,
   "metadata": {},
   "outputs": [
    {
     "data": {
      "text/html": [
       "<div class='gpresult'><h2 class='msg-title'>Messages</h2><div id='messages'>Start Time: Tuesday, March 4, 2025 3:09:39 PM<br>Succeeded at Tuesday, March 4, 2025 3:09:41 PM (Elapsed Time: 1.67 seconds)<br></div><div id = 'default' /></div></div>"
      ],
      "text/plain": [
       "<Result 'D:\\\\LSU\\\\Sp_2025\\\\GEOG4057\\\\assignment-6\\\\assignment-6.gdb\\\\point_fromxy'>"
      ]
     },
     "execution_count": 1,
     "metadata": {},
     "output_type": "execute_result"
    }
   ],
   "source": [
    "# To get the 10 points \n",
    "# Paste the python code from the above instruction here\n",
    "# make sure you start with import arcpy\n",
    "\n",
    "import arcpy\n",
    "arcpy.management.XYTableToPoint(\n",
    "    in_table=r\"D:\\LSU\\Sp_2025\\GEOG4057\\assignment-6\\points.csv\",\n",
    "    out_feature_class=r\"D:\\LSU\\Sp_2025\\GEOG4057\\assignment-6\\assignment-6.gdb\\point_fromxy\",\n",
    "    x_field=\"X\",\n",
    "    y_field=\"Y\",\n",
    "    z_field=None,\n",
    "    coordinate_system='GEOGCS[\"GCS_WGS_1984\",DATUM[\"D_WGS_1984\",SPHEROID[\"WGS_1984\",6378137.0,298.257223563]],PRIMEM[\"Greenwich\",0.0],UNIT[\"Degree\",0.0174532925199433]];-400 -400 1000000000;-100000 10000;-100000 10000;8.98315284119521E-09;0.001;0.001;IsHighPrecision'\n",
    ")\n"
   ]
  },
  {
   "cell_type": "markdown",
   "metadata": {},
   "source": [
    "## Commentating the example code:(20 pnts)\n",
    " - Using InsertCursor to do the same thing but project the geometry to a different spatial reference \n",
    "\n",
    "- The above code only imports the csv to a feature class but not converting from a GCS to a project coordinate system\n",
    "- We will use the following code to do the work and project the data to \"NAD 1983 USGS Contiguous USA Albers\" system with the WKID = 102039\n",
    "- Look the code up from here: https://epsg.io/102039"
   ]
  },
  {
   "cell_type": "code",
   "execution_count": 2,
   "metadata": {},
   "outputs": [
    {
     "name": "stdout",
     "output_type": "stream",
     "text": [
      "New point feature class 'point_albers' created in 'D:\\LSU\\Sp_2025\\GEOG4057\\assignment-6\\assignment-6.gdb' with 5 fields.\n"
     ]
    }
   ],
   "source": [
    "import arcpy\n",
    "import csv\n",
    "import os\n",
    "\n",
    "# Edit the path names for your case\n",
    "csv_file_path = r\"D:\\LSU\\Sp_2025\\GEOG4057\\assignment-6\\points.csv\"\n",
    "geodatabase_path = r\"D:\\LSU\\Sp_2025\\GEOG4057\\assignment-6\\assignment-6.gdb\"\n",
    "feature_class_name = \"point_albers\"\n",
    "\n",
    "# Determine the number of fields and field names from the CSV header\n",
    "with open(csv_file_path, 'r') as csv_file:\n",
    "    csv_reader = csv.reader(csv_file)\n",
    "    header = next(csv_reader)\n",
    "    num_fields = len(header)\n",
    "\n",
    "# Create SpatialReference objects: \n",
    "sr_gcs = arcpy.SpatialReference(4269) \n",
    "sr_albsers = arcpy.SpatialReference(102039)\n",
    "#delete if the feature class exists\n",
    "\n",
    "fcName = os.path.join(geodatabase_path,feature_class_name)\n",
    "\n",
    "if arcpy.Exists(fcName):\n",
    "    arcpy.management.Delete(fcName)\n",
    "\n",
    "\n",
    "# Create a new point feature class\n",
    "\n",
    "arcpy.CreateFeatureclass_management(geodatabase_path, feature_class_name, \"POINT\", spatial_reference=sr_albsers)\n",
    "# Add fields to the feature class based on the CSV header\n",
    "\n",
    "# first, read the exisint fields \n",
    "describe = arcpy.da.Describe(fcName)\n",
    "field_names = [field.name for field in describe[\"fields\"]]\n",
    "\n",
    "\n",
    "for field in header:\n",
    "    if field not in field_names:\n",
    "        arcpy.AddField_management(fcName, field, \"TEXT\")\n",
    "\n",
    "# Create a cursor for inserting point features with additional fields\n",
    "cursor_fields = [\"SHAPE@\"] + header\n",
    "with arcpy.da.InsertCursor(fcName, cursor_fields) as cursor:\n",
    "    # Read data from the CSV file and create point features with attributes\n",
    "    with open(csv_file_path, 'r') as csv_file:\n",
    "        csv_reader = csv.reader(csv_file)\n",
    "        \n",
    "        # Skip the header row (if present)\n",
    "        next(csv_reader, None)\n",
    "        \n",
    "        for table_value in csv_reader:\n",
    "            x = float(table_value[0]) # note that the first two fields in the csv must be longitude and latitude\n",
    "            y = float(table_value[1])\n",
    "            pnt = arcpy.PointGeometry(arcpy.Point(x,y),sr_gcs)\n",
    "            pnt_alberse = pnt.projectAs(sr_albsers)\n",
    "\n",
    "            row = (pnt_alberse,) + tuple(table_value)\n",
    "            cursor.insertRow(row)\n",
    "\n",
    "print(f\"New point feature class '{feature_class_name}' created in '{geodatabase_path}' with {num_fields} fields.\")\n",
    "\n"
   ]
  },
  {
   "cell_type": "markdown",
   "metadata": {},
   "source": [
    "**Edit this block to answer these three questions**\n",
    "\n",
    "Q1: Line by line, explain what was done in the code. (10 pnts)\n",
    "\n",
    "-first three lines are for the necessary modules\n",
    "-then i have defined the necessary paths\n",
    "-with open csv, it reads first row,and report how many fields are present by counting the number of columns in the header\n",
    "-4269 and 102039 are for spatial reference objects\n",
    "-fcName variable combines geodatabase_path and feature_class_name\n",
    "-if arcpy.Exists checks if a feature class with same name already exists\n",
    "-arcpy.CreateFeatureclass creates a new feature class in the specified geodatabase\n",
    "-describe-arcpy.da.Describe to for loop- this part retrieves existing fields in newly created feature class, then iterates through the CSV file header and add as new text file.\n",
    "-cursor fields works through a list of field,, arcpy.da.InsertCursor insert new rows to feature class\n",
    "-for table value in csv reader loop- extract lat and long, point geometry is created using sr_gcs, sr_albers reprojected this to NAD83/Albers, then a row is created and row is inserted in feature class using cursor\n",
    "-final output message is printed by print of last line\n",
    "\n",
    "Q2: What do the cod 4269 and 102309 represent? (5 pnts)\n",
    "\n",
    "EPSG 4269: refers to NAD83(North American Datum 1983) geographic corordinate system\n",
    "EPSG 102039: refers to NAD83/ Conus Albers (Albers Equal Area projection) which is a conic projection.\n",
    "\n",
    "Q3: Explain what is SHAPE@ (5 pnts)\n",
    "\n",
    "The SHAPE@ allows to work with geometric properties like points,lines,polygons. SHAPE@ allows user to insert the geometry of a feature. including the coordinate values. It is very often used in insert and update cursor.\n"
   ]
  },
  {
   "cell_type": "markdown",
   "metadata": {},
   "source": [
    "## Use arcpy.Exist() (10 pnts)\n",
    "\n",
    "- This code checks the existence of a specified dataset within an ArcGIS workspace.\n",
    "- Fill the dataset_name and workspace_path variables with the database and the feature class name (points) from the last block\n",
    "- Print a message indicating whether the dataset exists or not."
   ]
  },
  {
   "cell_type": "code",
   "execution_count": 3,
   "metadata": {},
   "outputs": [
    {
     "name": "stdout",
     "output_type": "stream",
     "text": [
      "The dataset 'point_albers' exists in the workspace.\n"
     ]
    }
   ],
   "source": [
    "import arcpy\n",
    "import os\n",
    "\n",
    "# Prompt for user input\n",
    "dataset_name = \"point_albers\"\n",
    "workspace_path = r\"D:\\LSU\\Sp_2025\\GEOG4057\\assignment-6\\assignment-6.gdb\"\n",
    "fullname = os.path.join(workspace_path,dataset_name)\n",
    "# Check if the dataset exists\n",
    "if arcpy.Exists(fullname):\n",
    "    print(f\"The dataset '{dataset_name}' exists in the workspace.\")\n",
    "else:\n",
    "    print(f\"The dataset '{dataset_name}' does not exist in the workspace.\")"
   ]
  },
  {
   "cell_type": "markdown",
   "metadata": {},
   "source": [
    "**Edit this block to answer the question**\n",
    "\n",
    "Q4: Line by line describe what was done by the code in the block above. (10 pnts) \n",
    "\n",
    "first two lines are packages to import\n",
    "\n",
    "dataset_name defines the dataset that needs to be checked\n",
    "\n",
    "workspace path defines the workspace of gdb\n",
    "\n",
    "os.path.join() combines workspace path and dataset name in a full path\n",
    "\n",
    "if else statement checks if the dataset exists or not and print the message\n"
   ]
  },
  {
   "cell_type": "markdown",
   "metadata": {},
   "source": [
    "## Use arcpy.Walk() (10 pnts)\n",
    "\n",
    "- This code uses arcpy.Walk() to iterate through all feature datasets in the geodatabase you just used.\n",
    "- Modify the name of \"workspace\" to make the code work\n",
    "- Run the code to list all the feature classes within each dataset.\n"
   ]
  },
  {
   "cell_type": "code",
   "execution_count": 4,
   "metadata": {},
   "outputs": [
    {
     "name": "stdout",
     "output_type": "stream",
     "text": [
      "Feature Class in D:\\LSU\\Sp_2025\\GEOG4057\\assignment-6\\assignment-6.gdb: point_fromxy\n",
      "Feature Class in D:\\LSU\\Sp_2025\\GEOG4057\\assignment-6\\assignment-6.gdb: point_albers\n"
     ]
    }
   ],
   "source": [
    "import arcpy\n",
    "\n",
    "# Define the workspace\n",
    "workspace = r\"D:\\LSU\\Sp_2025\\GEOG4057\\assignment-6\\assignment-6.gdb\" # note that you need to put a full path name for this workspace, even running it in ArcGIS Pro. \n",
    "\n",
    "# Use arcpy.Walk() to iterate through feature datasets\n",
    "for dirpath, dirnames, filenames in arcpy.da.Walk(workspace, datatype=\"FeatureClass\"):\n",
    "    for filename in filenames:\n",
    "        print(f\"Feature Class in {dirpath}: {filename}\")"
   ]
  },
  {
   "cell_type": "markdown",
   "metadata": {},
   "source": [
    "**Edit this block to answer the question**\n",
    "\n",
    "Q5: line by line, describe what was done by the code in the block above. (10 pnts)\n",
    "\n",
    "first line is to import arcpy\n",
    "\n",
    "workspace will define the path\n",
    "\n",
    "arcpy.da.Walk() will iterate through the directory and will retrieve the data of different types like class, table, raster etc. it will loop through each directory\n",
    "\n",
    "if it finds anything, the last line is for printing of feature class with file name"
   ]
  },
  {
   "cell_type": "markdown",
   "metadata": {},
   "source": [
    "## Use List Comprehension (10 pnts)\n",
    "\n",
    "- The following block uses list comprehension to generate a list of .shp files in a specified folder.\n",
    "- Choose the folder name from assignment 4 data/paris subfolder where many shapefiles are located and use it for folder_path\n",
    "- Run the code to print the list of file names\n",
    "\n",
    "\n",
    "- In the second block, the code combines the os.walk() function with the list comprehension to  list all shapefiles in a folder including subfolders\n",
    "\n"
   ]
  },
  {
   "cell_type": "code",
   "execution_count": 5,
   "metadata": {},
   "outputs": [
    {
     "name": "stdout",
     "output_type": "stream",
     "text": [
      "Shapefiles in the folder:\n",
      "Metro_Entrances.shp\n",
      "Warehouses.shp\n"
     ]
    }
   ],
   "source": [
    "import os\n",
    "\n",
    "# Specify the folder path\n",
    "folder_path = r\"D:\\LSU\\Sp_2025\\GEOG4057\\geog4057-main\\data\\ModelBuilder_data\\ParisData\"\n",
    "\n",
    "# Use list comprehension to generate a list of .shp files\n",
    "shp_files = [file for file in os.listdir(folder_path) if file.endswith(\".shp\")]\n",
    "\n",
    "# Print the list of .shp files\n",
    "print(\"Shapefiles in the folder:\")\n",
    "for shp_file in shp_files:\n",
    "    print(shp_file)"
   ]
  },
  {
   "cell_type": "code",
   "execution_count": 6,
   "metadata": {},
   "outputs": [
    {
     "name": "stdout",
     "output_type": "stream",
     "text": [
      "Shapefiles in the folder:\n",
      "Metro_Entrances.shp\n",
      "Warehouses.shp\n",
      "Stores.shp\n",
      "Parks.shp\n",
      "Metro_Lines.shp\n",
      "Metro_LinesAOI.shp\n",
      "Metro_Stations.shp\n",
      "Streets.shp\n"
     ]
    }
   ],
   "source": [
    "import os\n",
    "# Specify the folder path\n",
    "folder_path = r\"D:\\LSU\\Sp_2025\\GEOG4057\\geog4057-main\\data\\ModelBuilder_data\\ParisData\"\n",
    "\n",
    "print(\"Shapefiles in the folder:\")\n",
    "for root, dirs, files in os.walk(folder_path):\n",
    "    shp_files = [file for file in files if file.endswith(\".shp\")]\n",
    "    for shp_file in shp_files:\n",
    "            print(shp_file)"
   ]
  },
  {
   "cell_type": "markdown",
   "metadata": {},
   "source": [
    "**Edit this block to answer the question**\n",
    "\n",
    "Q6: Describe what was done by the code in first blocks above. (5 pnts)\n",
    "\n",
    "folder path is for defining the path of folder\n",
    "\n",
    "list comprehension will filters the list to include the files that only ends with .shp extension. these files will be stored in shp_files variable\n",
    "\n",
    "for loop is used to iterate through the shp_files variable and print each file name\n",
    "\n",
    "\n",
    "Q7: Describe what was done by the code in second blocks above. (5 pnts)\n",
    "\n",
    "os.walk() is used instead of os.listdir() here, it goes through the folder apth and the directory.\n",
    "root, dirs and files are used to represent the current directory\n",
    "list comprehension will filter to include files that ends with .shp"
   ]
  },
  {
   "cell_type": "markdown",
   "metadata": {},
   "source": [
    "## Use arcpy.da.SearchCursor (10 pnts)\n",
    "\n",
    "- This code uses arcpy.da.SearchCursor to extract attribute information from a feature class.\n",
    "- Enter the name of the \"points\" feature class and the field(s) from the feature class to extract.\n",
    "- Run and display the extracted data.\n"
   ]
  },
  {
   "cell_type": "code",
   "execution_count": 7,
   "metadata": {},
   "outputs": [
    {
     "name": "stdout",
     "output_type": "stream",
     "text": [
      "Extracted Data:\n",
      "['-118.2437', '34.0522', '10', '15', '20']\n",
      "['-73.935242', '40.730610', '8', '11', '14']\n",
      "['-95.369804', '29.760427', '12', '18', '22']\n",
      "['-121.886329', '37.338208', '6', '9', '12']\n",
      "['-87.629798', '41.878113', '15', '22', '28']\n",
      "['-97.743061', '30.267153', '11', '16', '21']\n",
      "['-122.419416', '37.774929', '9', '13', '17']\n",
      "['-118.242766', '34.052235', '14', '21', '26']\n",
      "['-71.058880', '42.360081', '7', '10', '13']\n",
      "['-81.694360', '41.499321', '12', '17', '22']\n"
     ]
    }
   ],
   "source": [
    "import arcpy\n",
    "\n",
    "# Prompt for user input\n",
    "fc_path = geodatabase_path + \"/\" + feature_class_name\n",
    "fields_to_extract = [\"X\", \"Y\", \"Field1\", \"Field2\", \"Field3\"]\n",
    "\n",
    "# Use arcpy.da.SearchCursor to extract data\n",
    "with arcpy.da.SearchCursor(fc_path, fields_to_extract) as cursor:\n",
    "    print(\"Extracted Data:\")\n",
    "    for row in cursor:\n",
    "        print([row[i] for i in range(len(fields_to_extract))])"
   ]
  },
  {
   "cell_type": "markdown",
   "metadata": {},
   "source": [
    "**Edit this block to answer the question**\n",
    "\n",
    "Q8: Line by line, explain what was done in the code. 10 pnts\n",
    "\n",
    "first line is to import arcpy\n",
    "\n",
    "fc_path will combine the path to a geodatabase\n",
    "\n",
    "fields to extract list down the fields of the attribute table that will be extracted from feature class\n",
    "\n",
    "arcpy.da.SearchCursor creates cursor to search through each rows in feature class and will extract the fields that we have declared under the variable fields_to_extract\n",
    "\n",
    "with statement means, the cursor will close once the block of code is executed and finised\n",
    "\n",
    "print statement will print the extracted data"
   ]
  },
  {
   "cell_type": "markdown",
   "metadata": {},
   "source": [
    "## Use addField and field Calculator (20 pnts)\n",
    "\n",
    "- Run the following code block (with \"points\" feature class added to the last map before you switched into the notebook interface)"
   ]
  },
  {
   "cell_type": "code",
   "execution_count": 11,
   "metadata": {},
   "outputs": [
    {
     "data": {
      "text/html": [
       "<div class='gpresult'><h2 class='msg-title'>Messages</h2><div id='messages'>Start Time: Tuesday, March 4, 2025 3:49:02 PM<br>Succeeded at Tuesday, March 4, 2025 3:49:02 PM (Elapsed Time: 0.26 seconds)<br></div><div id = 'default' /></div></div>"
      ],
      "text/plain": [
       "<Result 'point_fromxy'>"
      ]
     },
     "execution_count": 11,
     "metadata": {},
     "output_type": "execute_result"
    }
   ],
   "source": [
    "import arcpy\n",
    "fc = \"point_fromxy\"\n",
    "newfieldName = \"all\"\n",
    "arcpy.AddField_management(fc, newfieldName, \"DOUBLE\")\n",
    "expression = \"sum(!Field1!,!Field2!,!Field3!)\"\n",
    "codeblock = \"\"\"\n",
    "def sum(*fields):\n",
    "    sum = 0\n",
    "    for field in fields:\n",
    "        sum += field\n",
    "    return sum\n",
    "\"\"\"\n",
    "arcpy.CalculateField_management(fc, newfieldName, expression, \"\", codeblock)"
   ]
  },
  {
   "cell_type": "markdown",
   "metadata": {},
   "source": [
    "**Edit this block to answer the questions**\n",
    "\n",
    "Q9: line by line, describe what was done by the code in the block above. 10 pnts\n",
    "\n",
    "first line is to import arcpy module\n",
    "\n",
    "fc is the variable to defined the points_fromxy that we created at starting of this assignment\n",
    "\n",
    "then the loop is for summing up the values that will go row by row, we have field 1,2,3 and our new field is named as all. field 1,2,3 summation for each row will be added in the all field of the attribute table. The sum function will do the summation\n",
    "\n",
    "Q10: Open the attribute table of \"points\" and check if the attribute table has a new filed \"all\" and correct values. Right-click the \"all\" field and click field calculator. Describe what you see in the field calculator interface. Compare the python code versus the field calculator interface. 10 pnts\n",
    "\n",
    "Yes there is a new field named as all with correct summation.If I click to open the calculate field, the options are input table with the point_fromxy2, field name is all, expression type is python3.The Fields box has all the field listed and helpers is the mathematical oepration listed....and the 'all =' block has the sumamtion command with field1, field 2, and field 3. There is also a block named as codeblock....then there is also apply and ok button.\n",
    "\n",
    "The difference is the outlook of the gui interface, in the python code we need to define all the things and variables in a processed manner, but the gui will give us the option to select by seeing the available options which may be easier for a new user."
   ]
  },
  {
   "cell_type": "markdown",
   "metadata": {},
   "source": [
    "## Submit the assignment ontime (10 pnts)\n",
    "\n",
    "- Late penalty is 10 points from here"
   ]
  }
 ],
 "metadata": {
  "kernelspec": {
   "display_name": "ArcGISPro",
   "language": "python",
   "name": "python3"
  },
  "language_info": {
   "file_extension": ".py",
   "mimetype": "text/x-python",
   "name": "python",
   "version": "3.11.10"
  }
 },
 "nbformat": 4,
 "nbformat_minor": 4
}
